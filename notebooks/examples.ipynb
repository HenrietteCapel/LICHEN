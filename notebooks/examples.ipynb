{
 "cells": [
  {
   "cell_type": "markdown",
   "metadata": {},
   "source": [
    "# Examples on how to use LICHEN"
   ]
  },
  {
   "cell_type": "markdown",
   "metadata": {},
   "source": [
    "First set the environment as describe in the README. Then store the model weights. I stored them in \"/LICHEN/model/model_weights.pt\"."
   ]
  },
  {
   "cell_type": "code",
   "execution_count": 1,
   "metadata": {},
   "outputs": [],
   "source": [
    "# Load package\n",
    "import pandas as pd\n",
    "import os\n",
    "from lichen import LICHEN"
   ]
  },
  {
   "cell_type": "markdown",
   "metadata": {},
   "source": [
    "Now we load the lichen model. We can request a GPU or CPU and the number of CPUs."
   ]
  },
  {
   "cell_type": "code",
   "execution_count": 2,
   "metadata": {},
   "outputs": [
    {
     "name": "stdout",
     "output_type": "stream",
     "text": [
      "Using device CPU with 4 CPUs\n"
     ]
    }
   ],
   "source": [
    "# Load the model\n",
    "lichen_model = LICHEN(f'{os.getcwd().strip('notebooks')}/model/model_weights.pt', cpu=True, ncpu=4) # change to locally stored model path"
   ]
  },
  {
   "cell_type": "markdown",
   "metadata": {},
   "source": [
    "## 1. Generating light sequences for one heavy sequence\n",
    "Light sequences can be generated directly for a single heavy sequence using the light_generation function.  \n",
    "\n",
    "This function takes the following **required** parameters as input:  \n",
    "**input**: the heavy sequence  \n",
    "\n",
    "And the following **optional** parameters:    \n",
    "**germline_seed**: Type, V-gene family, or V-genes to use provided in a list, multiple are allowed (e.g. ['IGKV1', 'IGKV2'] or ['IGKV1', 'K']). When multiple provided a random chosen selected seed will be used.  \n",
    "**custom_seed**: Custom seed to use. Provided as string.  \n",
    "**cdrs**: Containing the CDRL1, CDRL2, and CDRL3 for additional information available. Provided as list of length three (e.g. if only CDRL3 known [None, None, 'QRYNRAPYT']).  \n",
    "**numbering_scheme**: Numbering scheme CDR definition used when CDRs provided. Either 'IMGT' or 'Kabat'.  \n",
    "**n**: Number of light sequences requested per heavy sequence.  \n",
    "**filtering**: Filtering methods to apply. Provided in a list (e.g. ['ANARCII'])   \n",
    "**verbose**: Enable verbose output."
   ]
  },
  {
   "cell_type": "code",
   "execution_count": 3,
   "metadata": {},
   "outputs": [
    {
     "data": {
      "text/plain": [
       "['DIQMTQSPSTLSASVGDRVTITCRASERVDGYLAWYQHRPGRAPRLLISRVSRLHDGVPPRFTGRRSETDFSLTIDDLESEDSATYYCQHSRDSSSSSGRSVTFGPGTRLDIK',\n",
       " 'DIQMTQSPSTLSASIGDRVTITCRASETVDDWVAWYQHRPGRVPKVLIHDTSRLHRGVPSRFRGRRSESQTEYTLTIRRLEPDDSATYFCQHHRDSSRYSSRFGGGTRVEIK']"
      ]
     },
     "execution_count": 3,
     "metadata": {},
     "output_type": "execute_result"
    }
   ],
   "source": [
    "# Generate 2 light sequence for the heavy sequence\n",
    "lichen_model.light_generation('EVQLLESGGEVKKPGASVKVSCRASGYTFRNYGLTWVRQAPGQGLEWMGWISAYNGNTNYAQKFQGRVTLTTDTSTSTAYMELRSLRSDDTAVYFCARDVPGHGAAFMDVWGTGTTVTVSS', \n",
    "                              n=2)"
   ]
  },
  {
   "cell_type": "code",
   "execution_count": null,
   "metadata": {},
   "outputs": [
    {
     "data": {
      "text/plain": [
       "['DIQLTQSPSSLSASVGDRVTITCRASENIRDSLHWYQHKSGTAPRVLISSTFRLRDGVPSRFRGRRSETDFSLTITDLQSDDSGTYYCQQTHRSPQTFGQGTRVEMK',\n",
       " 'DIQMTQSPSSVSASVGDRVTITCRASEGVRRSLVWYQHRPGRAPRLLVSDAFRLRGGVPSRFTGRRSETNFTLTISNLQPEDSATYYCQQSRRSPHSFGQGTKLEIK']"
      ]
     },
     "execution_count": 6,
     "metadata": {},
     "output_type": "execute_result"
    }
   ],
   "source": [
    "# Genreate 2 light sequences either IGKV1- or IGKV3 for the heavy sequence\n",
    "lichen_model.light_generation('EVQLLESGGEVKKPGASVKVSCRASGYTFRNYGLTWVRQAPGQGLEWMGWISAYNGNTNYAQKFQGRVTLTTDTSTSTAYMELRSLRSDDTAVYFCARDVPGHGAAFMDVWGTGTTVTVSS', \n",
    "                              n=2, \n",
    "                              germline_seed=['IGKV1', 'IGKV3'])"
   ]
  },
  {
   "cell_type": "code",
   "execution_count": 7,
   "metadata": {},
   "outputs": [
    {
     "data": {
      "text/plain": [
       "['QPALTQPRSVSGSPGQSVTISCTGTRNDIGDFDSVSWYQHRPGTVPRVMIFEVRRRPSGVPDRFSGSKSGNTASLTISGLQTDDEGEYFCCSFTDRDRRMFGGGTELTVL']"
      ]
     },
     "execution_count": 7,
     "metadata": {},
     "output_type": "execute_result"
    }
   ],
   "source": [
    "# Generate a lambda light sequence for the heavy seuquence\n",
    "lichen_model.light_generation('EVQLLESGGEVKKPGASVKVSCRASGYTFRNYGLTWVRQAPGQGLEWMGWISAYNGNTNYAQKFQGRVTLTTDTSTSTAYMELRSLRSDDTAVYFCARDVPGHGAAFMDVWGTGTTVTVSS',\n",
    "                              germline_seed=['L'])\n"
   ]
  },
  {
   "cell_type": "code",
   "execution_count": 9,
   "metadata": {},
   "outputs": [
    {
     "data": {
      "text/plain": [
       "['VIWMTQSPSLVSASTGDRVTISCRMSQDIGNSLAWYQHRPGRPPKLLISSTSNLHTGVPSRFSGSGSGTDFTLTISRLESEDSATYFCQQYSDSPRTFGPGTRVEVK']"
      ]
     },
     "execution_count": 9,
     "metadata": {},
     "output_type": "execute_result"
    }
   ],
   "source": [
    "# Generate 2 light sequences starting with 'VIWMTQ' for the heavy sequence\n",
    "lichen_model.light_generation('EVQLLESGGEVKKPGASVKVSCRASGYTFRNYGLTWVRQAPGQGLEWMGWISAYNGNTNYAQKFQGRVTLTTDTSTSTAYMELRSLRSDDTAVYFCARDVPGHGAAFMDVWGTGTTVTVSS',\n",
    "                              custom_seed='VIWMTQ')"
   ]
  },
  {
   "cell_type": "code",
   "execution_count": null,
   "metadata": {},
   "outputs": [
    {
     "data": {
      "text/plain": [
       "['EIVMTQSPVTLSVSPGERATLSCRASQSIGSSLAWYQHRPGQPPRLLMYYASSRATDTPDRFTGTGSGTDFTLTISSLESEDSAVYFCQHRRHSREATFGPGTRVDIK']"
      ]
     },
     "execution_count": 11,
     "metadata": {},
     "output_type": "execute_result"
    }
   ],
   "source": [
    "# Generate a light sequences with 'QSIGSS' as CDRL1 and 'YAS' as CDRL2 using the IMGT definition for the heavy sequence\n",
    "lichen_model.light_generation('EVQLLESGGEVKKPGASVKVSCRASGYTFRNYGLTWVRQAPGQGLEWMGWISAYNGNTNYAQKFQGRVTLTTDTSTSTAYMELRSLRSDDTAVYFCARDVPGHGAAFMDVWGTGTTVTVSS',\n",
    "                              cdrs=['QSIGSS', 'YAS', None])"
   ]
  },
  {
   "cell_type": "code",
   "execution_count": 4,
   "metadata": {},
   "outputs": [
    {
     "data": {
      "text/plain": [
       "['DIQMTQSPSSVSASVGDRVTITCRASQGVRRSLAWYQQRPGRAPKVLISAASRLHTGVPSRFSGSGSGTDFTLTITGLQPEDSATYFCQRYNRAPYTFGQGTKVEVK']"
      ]
     },
     "execution_count": 4,
     "metadata": {},
     "output_type": "execute_result"
    }
   ],
   "source": [
    "# Generate a light sequence with 'QQTRST' as CDRL3 using the Kabat CDR definition for the heavy sequence\n",
    "lichen_model.light_generation('EVQLLESGGEVKKPGASVKVSCRASGYTFRNYGLTWVRQAPGQGLEWMGWISAYNGNTNYAQKFQGRVTLTTDTSTSTAYMELRSLRSDDTAVYFCARDVPGHGAAFMDVWGTGTTVTVSS',\n",
    "                              cdrs=[None, None, 'QRYNRAPYT'],\n",
    "                              numbering_scheme='Kabat')"
   ]
  },
  {
   "cell_type": "code",
   "execution_count": null,
   "metadata": {},
   "outputs": [
    {
     "data": {
      "text/plain": [
       "['DIVMTQSPDSLAVSLGERATINCKSSQNVFHRSSKRSHVGWYQHKPGQPPRLLISWASTRDSGVPDRFSGSGSGTDFTLTISNLQPEDVAVYFCHQHHNIPHTFGGGTRVEIK',\n",
       " 'DIQMTQSPSSLSASVGDRVTITCRASQDINTHLAWYQQKPGRPPRSLISTTSRLHDGVPSKFTGSRSGTDFTLTISGLQPEDSATYFCQQYDRHPRTFGQGTKLEIK']"
      ]
     },
     "execution_count": 5,
     "metadata": {},
     "output_type": "execute_result"
    }
   ],
   "source": [
    "# Generate 2 light sequence which are non redundant and can all be numbered by ANARCII for the heavy sequence\n",
    "lichen_model.light_generation('EVQLLESGGEVKKPGASVKVSCRASGYTFRNYGLTWVRQAPGQGLEWMGWISAYNGNTNYAQKFQGRVTLTTDTSTSTAYMELRSLRSDDTAVYFCARDVPGHGAAFMDVWGTGTTVTVSS',\n",
    "                              filtering=['redundancy', 'ANARCII'],\n",
    "                              n=2)"
   ]
  },
  {
   "cell_type": "markdown",
   "metadata": {},
   "source": [
    "## 2. Generating light sequence for multiple heavy sequences\n",
    "\n",
    "Light sequences can be generated for multiple heavy sequences using the **light_generation_bulk** function and providing the input data in a pandas dataframe. This dataframe should contain a column **\"heavy\"** containing the heavy sequences. Optional additional information can be passed in the columns **\"germline_seed\"**, **\"custom_seed\"**, **\"cdrs\"**, and **\"filtering\"** in the same format as indicated above.\n",
    "\n",
    "The function takse the remaining parameters as input, i.e.:  \n",
    "**input**: the pandas dataframe.  \n",
    "**numbering_scheme**: Numbering scheme CDR definition used when CDRs provided. Either 'IMGT' or 'Kabat'.  \n",
    "**n**: Number of light sequences requested per heavy sequence.  \n",
    "**verbose**: Enable verbose output."
   ]
  },
  {
   "cell_type": "code",
   "execution_count": 33,
   "metadata": {},
   "outputs": [
    {
     "data": {
      "text/html": [
       "<div>\n",
       "<style scoped>\n",
       "    .dataframe tbody tr th:only-of-type {\n",
       "        vertical-align: middle;\n",
       "    }\n",
       "\n",
       "    .dataframe tbody tr th {\n",
       "        vertical-align: top;\n",
       "    }\n",
       "\n",
       "    .dataframe thead th {\n",
       "        text-align: right;\n",
       "    }\n",
       "</style>\n",
       "<table border=\"1\" class=\"dataframe\">\n",
       "  <thead>\n",
       "    <tr style=\"text-align: right;\">\n",
       "      <th></th>\n",
       "      <th>heavy</th>\n",
       "      <th>germline_seed</th>\n",
       "      <th>filtering</th>\n",
       "    </tr>\n",
       "  </thead>\n",
       "  <tbody>\n",
       "    <tr>\n",
       "      <th>0</th>\n",
       "      <td>EVQLLESGGEVKKPGASVKVSCRASGYTFRNYGLTWVRQAPGQGLE...</td>\n",
       "      <td>[IGLV1-36]</td>\n",
       "      <td>[ANARCII]</td>\n",
       "    </tr>\n",
       "    <tr>\n",
       "      <th>1</th>\n",
       "      <td>QVQLVQSGVEVKKPGASVKVSCKASGYTFTNYYMYWVRQAPGQGLE...</td>\n",
       "      <td>[IGKV1-39]</td>\n",
       "      <td>[ANARCII]</td>\n",
       "    </tr>\n",
       "  </tbody>\n",
       "</table>\n",
       "</div>"
      ],
      "text/plain": [
       "                                               heavy germline_seed  filtering\n",
       "0  EVQLLESGGEVKKPGASVKVSCRASGYTFRNYGLTWVRQAPGQGLE...    [IGLV1-36]  [ANARCII]\n",
       "1  QVQLVQSGVEVKKPGASVKVSCKASGYTFTNYYMYWVRQAPGQGLE...    [IGKV1-39]  [ANARCII]"
      ]
     },
     "execution_count": 33,
     "metadata": {},
     "output_type": "execute_result"
    }
   ],
   "source": [
    "# Load the input dataset\n",
    "# Note that columns \"germline_seed\" and \"filtering\" (and \"cdrs\") need to be writte in as lists\n",
    "from ast import literal_eval\n",
    "df_input = pd.read_csv('./example_data/easy_example.csv', \n",
    "                       converters={\"germline_seed\": literal_eval, \"filtering\": literal_eval}, \n",
    "                       index_col=0)\n",
    "df_input"
   ]
  },
  {
   "cell_type": "code",
   "execution_count": 26,
   "metadata": {},
   "outputs": [],
   "source": [
    "# Generate 3 light sequences for each heavy sequence in the dataframe. Each heavy sequence has its own light germline seed and ANARCII filtering is performed on both.\n",
    "result = lichen_model.light_generation_bulk(df_input, n=3)"
   ]
  },
  {
   "cell_type": "code",
   "execution_count": 27,
   "metadata": {},
   "outputs": [
    {
     "data": {
      "text/html": [
       "<div>\n",
       "<style scoped>\n",
       "    .dataframe tbody tr th:only-of-type {\n",
       "        vertical-align: middle;\n",
       "    }\n",
       "\n",
       "    .dataframe tbody tr th {\n",
       "        vertical-align: top;\n",
       "    }\n",
       "\n",
       "    .dataframe thead th {\n",
       "        text-align: right;\n",
       "    }\n",
       "</style>\n",
       "<table border=\"1\" class=\"dataframe\">\n",
       "  <thead>\n",
       "    <tr style=\"text-align: right;\">\n",
       "      <th></th>\n",
       "      <th>heavy</th>\n",
       "      <th>generated_light</th>\n",
       "    </tr>\n",
       "  </thead>\n",
       "  <tbody>\n",
       "    <tr>\n",
       "      <th>0</th>\n",
       "      <td>EVQLLESGGEVKKPGASVKVSCRASGYTFRNYGLTWVRQAPGQGLE...</td>\n",
       "      <td>QSVLTQPPSVSGAPGQRVTISCTGSRSNIGTAFDVHWYQHFPGRAP...</td>\n",
       "    </tr>\n",
       "    <tr>\n",
       "      <th>1</th>\n",
       "      <td>EVQLLESGGEVKKPGASVKVSCRASGYTFRNYGLTWVRQAPGQGLE...</td>\n",
       "      <td>QSVLTQPPSVSGAPGQRVTISCTGSRSNIGTRFDVHWYQHFPGRAP...</td>\n",
       "    </tr>\n",
       "    <tr>\n",
       "      <th>2</th>\n",
       "      <td>EVQLLESGGEVKKPGASVKVSCRASGYTFRNYGLTWVRQAPGQGLE...</td>\n",
       "      <td>QSVLTQPPSVSGAPGQRVTISCSGTNSNIGSRHEVNWYQHFPGRAP...</td>\n",
       "    </tr>\n",
       "    <tr>\n",
       "      <th>0</th>\n",
       "      <td>QVQLVQSGVEVKKPGASVKVSCKASGYTFTNYYMYWVRQAPGQGLE...</td>\n",
       "      <td>DIQMTQSPSFVSASVGDRVTITCRASQDIRRSLAWYQQRPGRAPRL...</td>\n",
       "    </tr>\n",
       "    <tr>\n",
       "      <th>1</th>\n",
       "      <td>QVQLVQSGVEVKKPGASVKVSCKASGYTFTNYYMYWVRQAPGQGLE...</td>\n",
       "      <td>DIQMTQSPSSLSASVGDRVTITCRASQDIRKDLGWYQQKPGKAPKR...</td>\n",
       "    </tr>\n",
       "    <tr>\n",
       "      <th>2</th>\n",
       "      <td>QVQLVQSGVEVKKPGASVKVSCKASGYTFTNYYMYWVRQAPGQGLE...</td>\n",
       "      <td>DIQMTQSPSFLSASVGDRVTITCRASQNIRRSLSWYQHKSGRAPRV...</td>\n",
       "    </tr>\n",
       "  </tbody>\n",
       "</table>\n",
       "</div>"
      ],
      "text/plain": [
       "                                               heavy  \\\n",
       "0  EVQLLESGGEVKKPGASVKVSCRASGYTFRNYGLTWVRQAPGQGLE...   \n",
       "1  EVQLLESGGEVKKPGASVKVSCRASGYTFRNYGLTWVRQAPGQGLE...   \n",
       "2  EVQLLESGGEVKKPGASVKVSCRASGYTFRNYGLTWVRQAPGQGLE...   \n",
       "0  QVQLVQSGVEVKKPGASVKVSCKASGYTFTNYYMYWVRQAPGQGLE...   \n",
       "1  QVQLVQSGVEVKKPGASVKVSCKASGYTFTNYYMYWVRQAPGQGLE...   \n",
       "2  QVQLVQSGVEVKKPGASVKVSCKASGYTFTNYYMYWVRQAPGQGLE...   \n",
       "\n",
       "                                     generated_light  \n",
       "0  QSVLTQPPSVSGAPGQRVTISCTGSRSNIGTAFDVHWYQHFPGRAP...  \n",
       "1  QSVLTQPPSVSGAPGQRVTISCTGSRSNIGTRFDVHWYQHFPGRAP...  \n",
       "2  QSVLTQPPSVSGAPGQRVTISCSGTNSNIGSRHEVNWYQHFPGRAP...  \n",
       "0  DIQMTQSPSFVSASVGDRVTITCRASQDIRRSLAWYQQRPGRAPRL...  \n",
       "1  DIQMTQSPSSLSASVGDRVTITCRASQDIRKDLGWYQQKPGKAPKR...  \n",
       "2  DIQMTQSPSFLSASVGDRVTITCRASQNIRRSLSWYQHKSGRAPRV...  "
      ]
     },
     "execution_count": 27,
     "metadata": {},
     "output_type": "execute_result"
    }
   ],
   "source": [
    "result"
   ]
  },
  {
   "cell_type": "markdown",
   "metadata": {},
   "source": [
    "## 3. Generating a common light sequence for a bispecific antibody\n",
    "Both the functions **light_generation** and **light_generation_bulk** can take two heavy sequences at the same time to generate a common light sequences by providing the heavy sequences in a list. Again all optional parameters are available."
   ]
  },
  {
   "cell_type": "code",
   "execution_count": 28,
   "metadata": {},
   "outputs": [
    {
     "data": {
      "text/plain": [
       "['DIQMTQSPSSLSASVGDRVTITCRASQSISSYLNWYQQKPGKAPKLLIYAASSLQSGVPSRFSGSGSGTDFTLTISSLQPEDFATYYCQQSYSTPRFGGGTKVEIK']"
      ]
     },
     "execution_count": 28,
     "metadata": {},
     "output_type": "execute_result"
    }
   ],
   "source": [
    "lichen_model.light_generation(['QVQLVESGGGLVKPGGSLRLSCAASGFTFSNYYMSWVRQAPGKGLEWISYISGRGSTIFYADSVKGRITISRDNAKNSLFLQMNSLRAEDTAVYFCVKDRGGYSPYWGQGTLVTVSS', \n",
    "                               'EVQLVESGGGLVQPGRSLRLSCAASGFTFDDYSMHWVRQAPGKGLEWVSGISWNSGSKGYADSVKGRFTISRDNAKNSLYLQMNSLRAEDTALYYCAKYGSGYGKFYHYGLDVWGQGTTVTVSS'])"
   ]
  },
  {
   "cell_type": "markdown",
   "metadata": {},
   "source": [
    "## 4. Extracting log likelihood scores for an antibody\n",
    "The log likelihood score of a given heavy-light pairing can be extracted from the model using the **light_log_likelihood** function. This function takes a pandas dataframe as input with the heavy sequence in the **\"heavy\"** column and the light sequence in the **\"light\"** column."
   ]
  },
  {
   "cell_type": "code",
   "execution_count": 34,
   "metadata": {},
   "outputs": [
    {
     "data": {
      "text/html": [
       "<div>\n",
       "<style scoped>\n",
       "    .dataframe tbody tr th:only-of-type {\n",
       "        vertical-align: middle;\n",
       "    }\n",
       "\n",
       "    .dataframe tbody tr th {\n",
       "        vertical-align: top;\n",
       "    }\n",
       "\n",
       "    .dataframe thead th {\n",
       "        text-align: right;\n",
       "    }\n",
       "</style>\n",
       "<table border=\"1\" class=\"dataframe\">\n",
       "  <thead>\n",
       "    <tr style=\"text-align: right;\">\n",
       "      <th></th>\n",
       "      <th>heavy</th>\n",
       "      <th>light</th>\n",
       "    </tr>\n",
       "  </thead>\n",
       "  <tbody>\n",
       "    <tr>\n",
       "      <th>0</th>\n",
       "      <td>EVQLVESGGGLVQPGRSLRLSCAASGFTFDDYAMHWVRQAPGKGLE...</td>\n",
       "      <td>DIQMTQSPSSLSASVGDRVTITCRASQGIRNYLAWYQQKPGKAPKL...</td>\n",
       "    </tr>\n",
       "    <tr>\n",
       "      <th>1</th>\n",
       "      <td>EVQLVESGGGLVQPGRSLRLSCAASGFTFDDYAMHWVRQAPGKGLE...</td>\n",
       "      <td>DIQMTQSPSSLSASVGDRVTITCRASQSISSYLNWYQQKPGKAPKL...</td>\n",
       "    </tr>\n",
       "  </tbody>\n",
       "</table>\n",
       "</div>"
      ],
      "text/plain": [
       "                                               heavy  \\\n",
       "0  EVQLVESGGGLVQPGRSLRLSCAASGFTFDDYAMHWVRQAPGKGLE...   \n",
       "1  EVQLVESGGGLVQPGRSLRLSCAASGFTFDDYAMHWVRQAPGKGLE...   \n",
       "\n",
       "                                               light  \n",
       "0  DIQMTQSPSSLSASVGDRVTITCRASQGIRNYLAWYQQKPGKAPKL...  \n",
       "1  DIQMTQSPSSLSASVGDRVTITCRASQSISSYLNWYQQKPGKAPKL...  "
      ]
     },
     "execution_count": 34,
     "metadata": {},
     "output_type": "execute_result"
    }
   ],
   "source": [
    "df_input = pd.read_csv('./example_data/easy_example_likelihood.csv', index_col=0)\n",
    "df_input"
   ]
  },
  {
   "cell_type": "code",
   "execution_count": 35,
   "metadata": {},
   "outputs": [
    {
     "data": {
      "text/html": [
       "<div>\n",
       "<style scoped>\n",
       "    .dataframe tbody tr th:only-of-type {\n",
       "        vertical-align: middle;\n",
       "    }\n",
       "\n",
       "    .dataframe tbody tr th {\n",
       "        vertical-align: top;\n",
       "    }\n",
       "\n",
       "    .dataframe thead th {\n",
       "        text-align: right;\n",
       "    }\n",
       "</style>\n",
       "<table border=\"1\" class=\"dataframe\">\n",
       "  <thead>\n",
       "    <tr style=\"text-align: right;\">\n",
       "      <th></th>\n",
       "      <th>heavy</th>\n",
       "      <th>light</th>\n",
       "      <th>log_likelihood</th>\n",
       "    </tr>\n",
       "  </thead>\n",
       "  <tbody>\n",
       "    <tr>\n",
       "      <th>0</th>\n",
       "      <td>EVQLVESGGGLVQPGRSLRLSCAASGFTFDDYAMHWVRQAPGKGLE...</td>\n",
       "      <td>DIQMTQSPSSLSASVGDRVTITCRASQGIRNYLAWYQQKPGKAPKL...</td>\n",
       "      <td>-27.12</td>\n",
       "    </tr>\n",
       "    <tr>\n",
       "      <th>1</th>\n",
       "      <td>EVQLVESGGGLVQPGRSLRLSCAASGFTFDDYAMHWVRQAPGKGLE...</td>\n",
       "      <td>DIQMTQSPSSLSASVGDRVTITCRASQSISSYLNWYQQKPGKAPKL...</td>\n",
       "      <td>-10.96</td>\n",
       "    </tr>\n",
       "  </tbody>\n",
       "</table>\n",
       "</div>"
      ],
      "text/plain": [
       "                                               heavy  \\\n",
       "0  EVQLVESGGGLVQPGRSLRLSCAASGFTFDDYAMHWVRQAPGKGLE...   \n",
       "1  EVQLVESGGGLVQPGRSLRLSCAASGFTFDDYAMHWVRQAPGKGLE...   \n",
       "\n",
       "                                               light  log_likelihood  \n",
       "0  DIQMTQSPSSLSASVGDRVTITCRASQGIRNYLAWYQQKPGKAPKL...          -27.12  \n",
       "1  DIQMTQSPSSLSASVGDRVTITCRASQSISSYLNWYQQKPGKAPKL...          -10.96  "
      ]
     },
     "execution_count": 35,
     "metadata": {},
     "output_type": "execute_result"
    }
   ],
   "source": [
    "result = lichen_model.light_log_likelihood(df_input)\n",
    "result"
   ]
  },
  {
   "cell_type": "markdown",
   "metadata": {},
   "source": [
    "## 5. Extracting perplexity scores for an antiboy\n",
    "The perplexity score of a given heavy-light pairing can be extracted from the model using the **light_perplexity** function. This function takes a pandas dataframe as input with the heavy sequence in the **\"heavy\"** column and the light sequence in the **\"light\"** column."
   ]
  },
  {
   "cell_type": "code",
   "execution_count": null,
   "metadata": {},
   "outputs": [],
   "source": [
    "df_input = pd.read_csv('./example_data/easy_example_likelihood.csv', index_col=0)\n",
    "df_input"
   ]
  },
  {
   "cell_type": "code",
   "execution_count": 36,
   "metadata": {},
   "outputs": [
    {
     "data": {
      "text/html": [
       "<div>\n",
       "<style scoped>\n",
       "    .dataframe tbody tr th:only-of-type {\n",
       "        vertical-align: middle;\n",
       "    }\n",
       "\n",
       "    .dataframe tbody tr th {\n",
       "        vertical-align: top;\n",
       "    }\n",
       "\n",
       "    .dataframe thead th {\n",
       "        text-align: right;\n",
       "    }\n",
       "</style>\n",
       "<table border=\"1\" class=\"dataframe\">\n",
       "  <thead>\n",
       "    <tr style=\"text-align: right;\">\n",
       "      <th></th>\n",
       "      <th>heavy</th>\n",
       "      <th>light</th>\n",
       "      <th>log_likelihood</th>\n",
       "    </tr>\n",
       "  </thead>\n",
       "  <tbody>\n",
       "    <tr>\n",
       "      <th>0</th>\n",
       "      <td>EVQLVESGGGLVQPGRSLRLSCAASGFTFDDYAMHWVRQAPGKGLE...</td>\n",
       "      <td>DIQMTQSPSSLSASVGDRVTITCRASQGIRNYLAWYQQKPGKAPKL...</td>\n",
       "      <td>-27.12</td>\n",
       "    </tr>\n",
       "    <tr>\n",
       "      <th>1</th>\n",
       "      <td>EVQLVESGGGLVQPGRSLRLSCAASGFTFDDYAMHWVRQAPGKGLE...</td>\n",
       "      <td>DIQMTQSPSSLSASVGDRVTITCRASQSISSYLNWYQQKPGKAPKL...</td>\n",
       "      <td>-10.96</td>\n",
       "    </tr>\n",
       "  </tbody>\n",
       "</table>\n",
       "</div>"
      ],
      "text/plain": [
       "                                               heavy  \\\n",
       "0  EVQLVESGGGLVQPGRSLRLSCAASGFTFDDYAMHWVRQAPGKGLE...   \n",
       "1  EVQLVESGGGLVQPGRSLRLSCAASGFTFDDYAMHWVRQAPGKGLE...   \n",
       "\n",
       "                                               light  log_likelihood  \n",
       "0  DIQMTQSPSSLSASVGDRVTITCRASQGIRNYLAWYQQKPGKAPKL...          -27.12  \n",
       "1  DIQMTQSPSSLSASVGDRVTITCRASQSISSYLNWYQQKPGKAPKL...          -10.96  "
      ]
     },
     "execution_count": 36,
     "metadata": {},
     "output_type": "execute_result"
    }
   ],
   "source": [
    "result = lichen_model.light_log_likelihood(df_input)\n",
    "result"
   ]
  }
 ],
 "metadata": {
  "kernelspec": {
   "display_name": "LICHEN_env",
   "language": "python",
   "name": "python3"
  },
  "language_info": {
   "codemirror_mode": {
    "name": "ipython",
    "version": 3
   },
   "file_extension": ".py",
   "mimetype": "text/x-python",
   "name": "python",
   "nbconvert_exporter": "python",
   "pygments_lexer": "ipython3",
   "version": "3.12.2"
  }
 },
 "nbformat": 4,
 "nbformat_minor": 2
}
